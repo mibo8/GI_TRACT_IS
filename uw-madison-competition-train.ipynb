{
 "cells": [
  {
   "cell_type": "code",
   "execution_count": 1,
   "id": "efc02a66",
   "metadata": {
    "_cell_guid": "b1076dfc-b9ad-4769-8c92-a6c4dae69d19",
    "_uuid": "8f2839f25d086af736a60e9eeb907d3b93b6e0e5",
    "execution": {
     "iopub.execute_input": "2022-06-25T13:53:25.099320Z",
     "iopub.status.busy": "2022-06-25T13:53:25.097949Z",
     "iopub.status.idle": "2022-06-25T13:53:25.112694Z",
     "shell.execute_reply": "2022-06-25T13:53:25.111669Z"
    },
    "papermill": {
     "duration": 0.021466,
     "end_time": "2022-06-25T13:53:25.114922",
     "exception": false,
     "start_time": "2022-06-25T13:53:25.093456",
     "status": "completed"
    },
    "tags": []
   },
   "outputs": [
    {
     "name": "stdout",
     "output_type": "stream",
     "text": [
      "ciao \n"
     ]
    }
   ],
   "source": [
    "print('ciao ')"
   ]
  }
 ],
 "metadata": {
  "kernelspec": {
   "display_name": "Python 3",
   "language": "python",
   "name": "python3"
  },
  "language_info": {
   "codemirror_mode": {
    "name": "ipython",
    "version": 3
   },
   "file_extension": ".py",
   "mimetype": "text/x-python",
   "name": "python",
   "nbconvert_exporter": "python",
   "pygments_lexer": "ipython3",
   "version": "3.7.12"
  },
  "papermill": {
   "default_parameters": {},
   "duration": 10.17122,
   "end_time": "2022-06-25T13:53:25.938228",
   "environment_variables": {},
   "exception": null,
   "input_path": "__notebook__.ipynb",
   "output_path": "__notebook__.ipynb",
   "parameters": {},
   "start_time": "2022-06-25T13:53:15.767008",
   "version": "2.3.4"
  }
 },
 "nbformat": 4,
 "nbformat_minor": 5
}
